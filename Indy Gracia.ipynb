{
 "cells": [
  {
   "cell_type": "code",
   "execution_count": 7,
   "id": "b7fc2f3d-5ad1-4808-8d28-e5dce4dbfed7",
   "metadata": {},
   "outputs": [
    {
     "name": "stdout",
     "output_type": "stream",
     "text": [
      "False\n",
      "False\n",
      "True\n"
     ]
    }
   ],
   "source": [
    "#Latihan 5.1\n",
    "def cek_angka(angka1, angka2, angka3):\n",
    "    if angka1 == angka2 or angka1 == angka3 or angka2 == angka3:\n",
    "        return False\n",
    "    if angka1 + angka2 == angka3 or angka2 + angka3 == angka1 or angka1 + angka3 == angka2:\n",
    "        return True\n",
    "    else :\n",
    "        return False\n",
    "\n",
    "print(cek_angka(9,9,9))\n",
    "print(cek_angka(17, 11, 1))\n",
    "print(cek_angka(3, 5, 8))\n",
    "    "
   ]
  },
  {
   "cell_type": "code",
   "execution_count": 63,
   "id": "c120cc92-9436-4768-9d98-a85438805352",
   "metadata": {
    "scrolled": true
   },
   "outputs": [
    {
     "name": "stdin",
     "output_type": "stream",
     "text": [
      "Masukkan bilangan 1 : 111\n",
      "Masukkan bilangan 2 : 11\n",
      "Masukkan bilangan 3 : 12\n"
     ]
    },
    {
     "name": "stdout",
     "output_type": "stream",
     "text": [
      "True\n"
     ]
    }
   ],
   "source": [
    "#Latihan 5.2\n",
    "def cek_digit_belakang(angka1, angka2, angka3):\n",
    "    point1 = angka1 % 10\n",
    "    point2 = angka2 % 10\n",
    "    point3 = angka3 % 10\n",
    "\n",
    "    if point1 == point2 or point2 == point3 or point1 == point3 :\n",
    "        return True\n",
    "    else :\n",
    "        return False\n",
    "\n",
    "angka1 = int(input(\"Masukkan bilangan 1 :\"))\n",
    "angka2 = int(input(\"Masukkan bilangan 2 :\"))\n",
    "angka3 = int(input(\"Masukkan bilangan 3 :\"))\n",
    "\n",
    "print(cek_digit_belakang(angka1, angka2, angka3))"
   ]
  },
  {
   "cell_type": "code",
   "execution_count": 13,
   "id": "7ea3b670-3e42-4494-9c2a-c589582a7aa2",
   "metadata": {},
   "outputs": [
    {
     "name": "stdout",
     "output_type": "stream",
     "text": [
      "212.0\n",
      "64.0\n",
      "32.0\n"
     ]
    }
   ],
   "source": [
    "#Latihan 5.3\n",
    "Fh = lambda celcius : ((9 / 5) * celcius + 32)\n",
    "Ra = lambda celcius  : (0.8 * celcius)\n",
    "\n",
    "print(Fh(100))\n",
    "print(Ra(80))\n",
    "print(Fh(0))"
   ]
  },
  {
   "cell_type": "code",
   "execution_count": null,
   "id": "2c3599a5-6602-4712-9117-2106f3bcf3f3",
   "metadata": {},
   "outputs": [],
   "source": []
  }
 ],
 "metadata": {
  "kernelspec": {
   "display_name": "Python [conda env:base] *",
   "language": "python",
   "name": "conda-base-py"
  },
  "language_info": {
   "codemirror_mode": {
    "name": "ipython",
    "version": 3
   },
   "file_extension": ".py",
   "mimetype": "text/x-python",
   "name": "python",
   "nbconvert_exporter": "python",
   "pygments_lexer": "ipython3",
   "version": "3.12.7"
  }
 },
 "nbformat": 4,
 "nbformat_minor": 5
}
